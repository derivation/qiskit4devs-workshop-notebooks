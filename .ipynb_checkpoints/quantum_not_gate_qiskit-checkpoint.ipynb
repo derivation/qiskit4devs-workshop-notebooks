{
 "cells": [
  {
   "cell_type": "markdown",
   "metadata": {
    "slideshow": {
     "slide_type": "skip"
    }
   },
   "source": [
    "Display this as a slide deck using [RISE](https://damianavila.github.io/RISE/)."
   ]
  },
  {
   "cell_type": "markdown",
   "metadata": {
    "colab_type": "text",
    "id": "-Lh381LZkY9W",
    "slideshow": {
     "slide_type": "slide"
    }
   },
   "source": [
    "# The Quantum Version of a NOT Gate\n",
    "\n",
    "In classical programming, a [NOT gate](https://bit.ly/2SmqonO) turns a 0 bit into a 1 bit, and vice-versa. The quantum version of a NOT gate is the X gate, often referred to as the [Pauli-X gate](https://en.wikipedia.org/wiki/Quantum_logic_gate#Pauli-X_gate). It turns a [qubit](https://en.wikipedia.org/wiki/Qubit) symbolized in a [Dirac notation](https://en.wikipedia.org/wiki/Bra%E2%80%93ket_notation \"Dirac notation article on Wikipedia\") _ket_ by $\\vert0\\rangle$ into a $\\vert1\\rangle$, and vice-versa. These $\\vert0\\rangle$ and $\\vert1\\rangle$ qubits are quantum states, specifically _computational basis states_, and they are the quantum counterparts of the classical 0 and 1 bits. The X gate also operates on quantum states that are in some combination, or *superposition*, of the $\\vert0\\rangle$and $\\vert1\\rangle$ computational basis states. To demonstrate the X gate, we'll create a simple quantum circuit with the [Qiskit](https://qiskit.org/) framework after we've imported the necessary items.\n",
    "\n"
   ]
  },
  {
   "cell_type": "markdown",
   "metadata": {
    "slideshow": {
     "slide_type": "slide"
    }
   },
   "source": [
    "Include the necessary imports for this program"
   ]
  },
  {
   "cell_type": "code",
   "execution_count": 8,
   "metadata": {
    "colab": {},
    "colab_type": "code",
    "id": "MFyUj-8yI9JG"
   },
   "outputs": [],
   "source": [
    "import numpy as np\n",
    "from qiskit import QuantumCircuit, ClassicalRegister, QuantumRegister\n",
    "from qiskit import execute"
   ]
  },
  {
   "cell_type": "markdown",
   "metadata": {},
   "source": [
    "Create a `QuantumRegister` with 1 qubit, a `ClassicalRegister` with 1 bit, and a `QuantumCircuit` from the registers."
   ]
  },
  {
   "cell_type": "code",
   "execution_count": 9,
   "metadata": {},
   "outputs": [],
   "source": [
    "qr = QuantumRegister(1)\n",
    "cr = ClassicalRegister(1)\n",
    "circ = QuantumCircuit(qr, cr)"
   ]
  },
  {
   "cell_type": "markdown",
   "metadata": {
    "slideshow": {
     "slide_type": "slide"
    }
   },
   "source": [
    "Place an X gate on the qubit wire. The registers are zero-indexed."
   ]
  },
  {
   "cell_type": "code",
   "execution_count": 10,
   "metadata": {
    "colab": {},
    "colab_type": "code",
    "id": "qTJMysLtJpsF"
   },
   "outputs": [
    {
     "data": {
      "text/plain": [
       "<qiskit.extensions.standard.x.XGate at 0xa1c7db278>"
      ]
     },
     "execution_count": 10,
     "metadata": {},
     "output_type": "execute_result"
    }
   ],
   "source": [
    "circ.x(qr[0])"
   ]
  },
  {
   "cell_type": "markdown",
   "metadata": {},
   "source": [
    "Measure the qubit into the classical register"
   ]
  },
  {
   "cell_type": "code",
   "execution_count": 11,
   "metadata": {},
   "outputs": [
    {
     "data": {
      "text/plain": [
       "<qiskit.circuit.instructionset.InstructionSet at 0xa1c7dba90>"
      ]
     },
     "execution_count": 11,
     "metadata": {},
     "output_type": "execute_result"
    }
   ],
   "source": [
    "circ.measure(qr, cr)"
   ]
  },
  {
   "cell_type": "markdown",
   "metadata": {},
   "source": [
    "Draw the circuit"
   ]
  },
  {
   "cell_type": "code",
   "execution_count": 12,
   "metadata": {},
   "outputs": [
    {
     "data": {
      "image/png": "[encoded data removed]",
      "text/plain": [
       "<Figure size 301x138.46 with 1 Axes>"
      ]
     },
     "execution_count": 12,
     "metadata": {},
     "output_type": "execute_result"
    }
   ],
   "source": [
    "circ.draw(output='mpl')"
   ]
  },
  {
   "cell_type": "markdown",
   "metadata": {
    "colab_type": "text",
    "id": "Ze1KvaGtumdf",
    "slideshow": {
     "slide_type": "slide"
    }
   },
   "source": [
    "Now that the quantum circuit has been defined and drawn, let's execute it on a quantum simulator. First, import the simulator module, called Qiskit Aer and select the `qasm_simulator` to simulate measurements."
   ]
  },
  {
   "cell_type": "code",
   "execution_count": 20,
   "metadata": {
    "colab": {},
    "colab_type": "code",
    "id": "q9VtcrnDKmd1"
   },
   "outputs": [],
   "source": [
    "from qiskit import BasicAer\n",
    "backend_sim = BasicAer.get_backend('qasm_simulator')"
   ]
  },
  {
   "cell_type": "markdown",
   "metadata": {},
   "source": [
    " Run the simulation 100 times."
   ]
  },
  {
   "cell_type": "code",
   "execution_count": 21,
   "metadata": {},
   "outputs": [],
   "source": [
    "job_sim = execute(circ, backend_sim, shots=100)"
   ]
  },
  {
   "cell_type": "markdown",
   "metadata": {},
   "source": [
    "Get the results and print the statistics."
   ]
  },
  {
   "cell_type": "code",
   "execution_count": 22,
   "metadata": {},
   "outputs": [
    {
     "name": "stdout",
     "output_type": "stream",
     "text": [
      "{'1': 100}\n"
     ]
    }
   ],
   "source": [
    "result_sim = job_sim.result()\n",
    "counts = result_sim.get_counts(circ)\n",
    "print(counts)"
   ]
  },
  {
   "cell_type": "markdown",
   "metadata": {
    "colab_type": "text",
    "id": "F1ZxWlWGyK-3"
   },
   "source": [
    "The measurement for each run should be $\\vert1\\rangle$ as prescribed by the circuit."
   ]
  },
  {
   "cell_type": "markdown",
   "metadata": {
    "slideshow": {
     "slide_type": "slide"
    }
   },
   "source": [
    "## Visualizing the results"
   ]
  },
  {
   "cell_type": "code",
   "execution_count": 23,
   "metadata": {
    "colab": {},
    "colab_type": "code",
    "id": "-5ZQVEBF7Tqq"
   },
   "outputs": [
    {
     "data": {
      "image/png": "[encoded data removed]",
      "text/plain": [
       "<Figure size 504x360 with 1 Axes>"
      ]
     },
     "execution_count": 23,
     "metadata": {},
     "output_type": "execute_result"
    }
   ],
   "source": [
    "from qiskit.tools.visualization import plot_histogram\n",
    "plot_histogram(counts)"
   ]
  },
  {
   "cell_type": "markdown",
   "metadata": {
    "slideshow": {
     "slide_type": "slide"
    }
   },
   "source": [
    "## Modeling a qubit with a vector\n",
    "In linear algebra terms, the $\\vert0\\rangle$ qubit is represented by the following two-dimensional vector.\n",
    "\n",
    "<div style=\"content:\"\"; clear:both; display:table\">\n",
    "<div style=\"float:left; width:25%; padding:5px\">\n",
    "$$\n",
    " \\begin{bmatrix}\n",
    "  1 \\\\\n",
    "  0\n",
    " \\end{bmatrix}\n",
    "$$    \n",
    "</div>\n",
    "    <div style=\"float:left; width:75%; padding:5px\">\n",
    "<img src='images/qubit-unit-zero.png' width=256 title='Plane representing |0> in vector space'>    </div>\n",
    "    </div>\n",
    "</div>\n",
    " \n",
    "The first element, or dimension, of this vector holds the _amplitude_ of the $\\vert0\\rangle$ computational basis state. The second dimension of this vector holds the amplitude of the $\\vert1\\rangle$ computational basis state. This is shown geometrically in the following unit circle that represents the qubit's two-dimensional vector space. The vector is drawn from the origin to the point that is 1 on the $\\vert0\\rangle$ axis, and 0 on the $\\vert1\\rangle$ axis. "
   ]
  },
  {
   "cell_type": "markdown",
   "metadata": {
    "colab_type": "text",
    "id": "3U03pKa067WK",
    "slideshow": {
     "slide_type": "slide"
    }
   },
   "source": [
    "Similarly, the following vector represents the $\\vert1\\rangle$ qubit.\n",
    "\n",
    "<div style=\"content:\"\"; clear:both; display:table\">\n",
    "<div style=\"float:left; width:25%; padding:5px\">\n",
    "$$\n",
    " \\begin{bmatrix}\n",
    "  0 \\\\\n",
    "  1\n",
    " \\end{bmatrix}\n",
    "$$    \n",
    "</div>\n",
    "    <div style=\"float:left; width:75%; padding:5px\">\n",
    "<img src='images/qubit-unit-one.png' width=256 title='Plane representing |1> in vector space'>    </div>\n",
    "</div>\n",
    "\n",
    "In the corresponding unit circle, the vector is drawn from the origin to the point that is 0 on the $\\vert0\\rangle$ axis, and 1 on the $\\vert1\\rangle$ axis. \n",
    "\n",
    "The probability that a qubit, when measured, will result in a given computational basis state is the square of the absolute value of that computational basis state's amplitude. Therefore, the measurement of a qubit represented by the first vector shown previously results in the $\\vert0\\rangle$ computational basis state, and the measurement of a qubit represented by the second vector shown previously results in the $\\vert1\\rangle$ computational basis state.\n",
    "\n",
    "\n",
    "\n"
   ]
  },
  {
   "cell_type": "markdown",
   "metadata": {
    "slideshow": {
     "slide_type": "slide"
    }
   },
   "source": [
    "## Modeling a quantum gate with a matrix\n",
    "Quantum gates may be represented with matrices in linear algebra. For example, the X gate is represented by the following matrix.\n",
    "$$\n",
    " \\begin{bmatrix}\n",
    "  0 & 1 \\\\\n",
    "  1 & 0\n",
    " \\end{bmatrix}\n",
    "$$\n",
    "\n",
    "To model the effect of a quantum gate on a qubit, we'll multiply the matrix that represents the X gate by the vector that represents a $\\vert0\\rangle$ qubit.\n",
    "\n",
    "$$\n",
    " \\begin{bmatrix}\n",
    "  0 & 1 \\\\\n",
    "  1 & 0\n",
    " \\end{bmatrix}.\n",
    " \\begin{bmatrix}\n",
    "  1 \\\\\n",
    "  0\n",
    " \\end{bmatrix}=\n",
    " \\begin{bmatrix}\n",
    "  0 \\\\\n",
    "  1\n",
    " \\end{bmatrix}\n",
    "$$\n",
    "\n",
    "The result is a vector that represents the $\\vert1\\rangle$ qubit."
   ]
  },
  {
   "cell_type": "markdown",
   "metadata": {
    "slideshow": {
     "slide_type": "slide"
    }
   },
   "source": [
    "## Representing a qubit on a Bloch sphere\n",
    "Qubit states are often represented on a [_Bloch sphere_](https://en.wikipedia.org/wiki/Bloch_sphere), with the $\\vert0\\rangle$ computational basis state at the top of the sphere, and the $\\vert1\\rangle$ computational basis state at the bottom of the sphere. The sphere on the left represents a $\\vert0\\rangle$ qubit, as the line & arrow points to the top of the sphere. Similarly, the sphere on the right represents a $\\vert1\\rangle$ qubit, with the line & arrow pointing to the bottom of the sphere.\n",
    "\n",
    "<div style=\"content:\"\"; clear:both; display:table\">\n",
    "    <div style=\"float:left; width:50%; padding:5px\">\n",
    "        <img src='images/bloch-0-state.png' width=300 title='Bloch sphere representation of the |0> state'>\n",
    "    </div>\n",
    "    <div style=\"float:left; width:50%; padding:5px\">\n",
    "    <img src='images/bloch-1-state.png' width=300 title='Bloch sphere representation of the |1> state'>\n",
    "    </div>\n",
    "    </div>\n",
    "</div>"
   ]
  },
  {
   "cell_type": "markdown",
   "metadata": {
    "colab_type": "text",
    "id": "9R5YSPOerAMi",
    "slideshow": {
     "slide_type": "slide"
    }
   },
   "source": [
    "## Behavior of quantum gates on the Bloch sphere\n",
    "To get a feel for how Bloch spheres represent qubits and the behavior of quantum gates, go ahead and experiment with this [Bloch sphere playground application](https://javafxpert.github.io/grok-bloch \"grok-bloch application\"). Use the buttons labeled *$\\vert0\\rangle$*, *$\\vert1\\rangle$*, and *X* and notice how the line & arrow are positioned after each click. There are several other gates on the right side of the application with which you can experiment, even if you aren't yet familiar with them. Playing around will give you some intuition about their behavior in advance of when you study them more formally. \n",
    "\n",
    "[<div align='center'><img src='images/grok-bloch-screen-shot.png' width=600 title='Bloch sphere playground application'></div>](https://javafxpert.github.io/grok-bloch/)"
   ]
  }
 ],
 "metadata": {
  "celltoolbar": "Slideshow",
  "colab": {
   "collapsed_sections": [],
   "include_colab_link": true,
   "name": "quantum_not_gate_qiskit.ipynb",
   "private_outputs": true,
   "provenance": [],
   "version": "0.3.2"
  },
  "kernelspec": {
   "display_name": "Python 3",
   "language": "python",
   "name": "python3"
  },
  "language_info": {
   "codemirror_mode": {
    "name": "ipython",
    "version": 3
   },
   "file_extension": ".py",
   "mimetype": "text/x-python",
   "name": "python",
   "nbconvert_exporter": "python",
   "pygments_lexer": "ipython3",
   "version": "3.6.8"
  }
 },
 "nbformat": 4,
 "nbformat_minor": 1
}
